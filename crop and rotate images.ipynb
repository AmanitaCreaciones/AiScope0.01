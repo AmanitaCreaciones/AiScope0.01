{
 "cells": [
  {
   "cell_type": "markdown",
   "metadata": {},
   "source": [
    "This code loads the dataset and plot rectangles according to the curated XML"
   ]
  },
  {
   "cell_type": "code",
   "execution_count": 1,
   "metadata": {},
   "outputs": [],
   "source": [
    "import matplotlib.pyplot as plt\n",
    "import matplotlib.image as mpimg\n",
    "import matplotlib.patches as patches\n",
    "import xml.etree.ElementTree as ET\n",
    "from PIL import Image, ImageOps\n",
    "import numpy as np\n",
    "import os.path\n",
    "import os\n",
    "%matplotlib inline"
   ]
  },
  {
   "cell_type": "code",
   "execution_count": 2,
   "metadata": {},
   "outputs": [],
   "source": [
    "def crop_data(folder_in = 'raw data/' ,folder_out = 'croped data/', print_boxes = False, rotations_img = 0, mirror_img = True):\n",
    "\n",
    "    malaria_images_counter = 0\n",
    "    counter_nomalaria_img = 0\n",
    "    for file in os.listdir('./'+folder_in):\n",
    "\n",
    "        if file.endswith('.jpg'):\n",
    "            name = file[0:-4:]\n",
    "            #print(name)\n",
    "            if os.path.isfile(folder_in+name+'.xml'):\n",
    "                \n",
    "                #print(name+'.xml') #(deletable)\n",
    "                # check the xml file to find the boxes\n",
    "                tree = ET.parse(folder_in+name+'.xml')\n",
    "                boxes = tree.findall('./object/bndbox')\n",
    "\n",
    "                #load each image\n",
    "                image = Image.open(folder_in+name+'.jpg')\n",
    "                counter = 0  # that's a counter of how mnany dots there are in each image, you might not need it\n",
    "                diagnosed_points = {}\n",
    "\n",
    "                #this part crops the malaria dots\n",
    "                for box in boxes:\n",
    "                    counter += 1\n",
    "\n",
    "                    #get the corner of the box from the xml\n",
    "                    xmin = float(box.find('xmin').text)\n",
    "                    ymin = float(box.find('ymin').text)\n",
    "                    xmax = float(box.find('xmax').text)\n",
    "                    ymax = float(box.find('ymax').text) \n",
    "\n",
    "                    file_name = str(name)+' '+str(round(xmin,2))+' '+str(round(ymin,2))\n",
    "\n",
    "                    # this is for croping the parts without malaria\n",
    "                    diagnosed_points[counter] = {'xmin':xmin,'ymin':ymin,'xmax':xmax,'ymax':ymax} \n",
    "                    if ((xmin) <= image.size[0] and xmax<= image.size[0] and (ymin) <= image.size[1] and (ymax) <= image.size[1] and (xmax-xmin)==(ymax-ymin)):\n",
    "                        # crop where malaria is\n",
    "                        if (ymin < image.size[1] and xmax < image.size[0] and xmin >= 0 and ymin >=0 ):  #check if the images are square\n",
    "                            img = image.crop((xmin,ymin, xmax,ymax))\n",
    "                            #print(xmin, xmax,ymin,ymax)\n",
    "                            # rotate mirror and save images \n",
    "                            for i in range(0,rotations_img+1): \n",
    "                                temp_img = img.rotate(i*90)\n",
    "                                temp_img.save(folder_out+'malaria/'+str(file_name)+' malaria '+str(i)+'deg'+'.jpg')\n",
    "                                if mirror_img == True:\n",
    "                                    mirrored_img = ImageOps.mirror(temp_img)\n",
    "                                    mirrored_img.save(folder_out+'malaria/'+str(file_name)+' malaria '+str(i)+'deg mirror'+'.jpg')\n",
    "                                malaria_images_counter += 1\n",
    "                                \n",
    "                #this part crops the parts without malaria\n",
    "                if print_boxes == True:\n",
    "                    #this part checks grafically if the part to rhop touches a part with malaria\n",
    "                    #load each image\n",
    "                    imag = np.array(Image.open(folder_in+name+'.jpg'), dtype=np.uint8)\n",
    "                    # Create figure and axes\n",
    "                    fig,ax = plt.subplots(1)\n",
    "                    # Display the image\n",
    "                    ax.imshow(imag)\n",
    "                    \n",
    "                # travel all over the image\n",
    "                for x in range(0,image.size[0],40):\n",
    "                    for y in range (20,image.size[1],30):\n",
    "                        # check if what we want to crop is completely inside the image\n",
    "                        if ((x + 40)<=image.size[0] and (y + 40)<=image.size[1]):\n",
    "                            checker = True\n",
    "                            #checks if the square to crop colides with a square with malaria\n",
    "                            for i in range(1,len(diagnosed_points)+1):\n",
    "\n",
    "                                if ((x >= diagnosed_points[i]['xmin'] and x <= diagnosed_points[i]['xmax']) and \n",
    "                                     (y >= diagnosed_points[i]['ymin'] and y <= diagnosed_points[i]['ymax']) or\n",
    "\n",
    "                                    ((x +40)>= diagnosed_points[i]['xmin'] and (x +40) <= diagnosed_points[i]['xmax']) and \n",
    "                                     (y >= diagnosed_points[i]['ymin'] and y <= diagnosed_points[i]['ymax']) or \n",
    "\n",
    "                                    (x >= diagnosed_points[i]['xmin'] and x <= diagnosed_points[i]['xmax']) and \n",
    "                                     ((y + 40) >= diagnosed_points[i]['ymin'] and (y + 40) <= diagnosed_points[i]['ymax']) or \n",
    "\n",
    "                                    ((x + 40) >= diagnosed_points[i]['xmin'] and (x +40) <= diagnosed_points[i]['xmax']) and \n",
    "                                     ((y + 40) >= diagnosed_points[i]['ymin'] and (y + 40) <= diagnosed_points[i]['ymax'])\n",
    "                                   ):\n",
    "                                    checker = False\n",
    "                                    if print_boxes == True:\n",
    "                                        #this part checks grafically if the part to crop touches a part with malaria\n",
    "                                        rect = patches.Rectangle((x,y),40,40,linewidth=1,edgecolor='g',facecolor='none')\n",
    "                                        # Add the patch to the Axes\n",
    "                                        ax.add_patch(rect)\n",
    "                                        \n",
    "                            # if the square to crop doesnt colide with a square with malaria then crop it\n",
    "                            if (checker is True):\n",
    "\n",
    "                                # crop image\n",
    "                                img = image.crop((x,y, x +40,y+40))\n",
    "                                file_name = str(name)+' '+str(x)+' '+str(y)\n",
    "                                mean_image = mpimg.pil_to_array(img.convert('LA'))[:,:,0]\n",
    "                                bias = max(mean_image.reshape(40*40))-min(mean_image.reshape(40*40))\n",
    "                                mean_image = mean_image.reshape(1,mean_image.shape[0]*mean_image.shape[1]).mean(axis=1)\n",
    "                                \n",
    "            \n",
    "                            # rotate, mirror and save images\n",
    "                                #antes era  <= 130\n",
    "                                if mean_image <= 130 and  counter_nomalaria_img <= malaria_images_counter: # the smaller the mean the darker the images\n",
    "                                    for i in range(0,rotations_img+1): # (0,271,90)\n",
    "                                        #print(bias)\n",
    "                                        counter_nomalaria_img += 1\n",
    "                                        temp_img = img.rotate(i*90)\n",
    "                                        temp_img.save(folder_out+'no malaria/'+str(file_name)+' no malaria '+str(i)+'deg'+'.jpg')\n",
    "                                        if mirror_img == True:\n",
    "                                            mirrored_img = ImageOps.mirror(temp_img)\n",
    "                                            mirrored_img.save(folder_out+'no malaria/'+str(file_name)+' no malaria '+str(i)+'deg mirror'+'.jpg')            \n",
    "                if print_boxes == True:\n",
    "                    #this part checks grafically if the part to crop touches a part with malaria\n",
    "                    plt.xticks(())\n",
    "                    plt.yticks(())\n",
    "                    plt.show() \n",
    "    print('Result')\n",
    "    print('total malaria croped images: ',malaria_images_counter)\n",
    "    print('total no malaria croped images: ',counter_nomalaria_img)\n",
    "\n"
   ]
  },
  {
   "cell_type": "code",
   "execution_count": 3,
   "metadata": {},
   "outputs": [
    {
     "name": "stdout",
     "output_type": "stream",
     "text": [
      "Result\n",
      "total malaria croped images:  5497\n",
      "total no malaria croped images:  5498\n"
     ]
    }
   ],
   "source": [
    "crop_data(folder_in = 'raw data/' ,folder_out = 'croped data/', print_boxes = False, \n",
    "          rotations_img = 0, mirror_img = False)"
   ]
  },
  {
   "cell_type": "code",
   "execution_count": null,
   "metadata": {
    "collapsed": true
   },
   "outputs": [],
   "source": []
  },
  {
   "cell_type": "code",
   "execution_count": null,
   "metadata": {
    "collapsed": true
   },
   "outputs": [],
   "source": []
  },
  {
   "cell_type": "code",
   "execution_count": null,
   "metadata": {
    "collapsed": true
   },
   "outputs": [],
   "source": []
  },
  {
   "cell_type": "code",
   "execution_count": null,
   "metadata": {
    "collapsed": true
   },
   "outputs": [],
   "source": [
    "                           "
   ]
  },
  {
   "cell_type": "code",
   "execution_count": null,
   "metadata": {
    "collapsed": true
   },
   "outputs": [],
   "source": []
  }
 ],
 "metadata": {
  "kernelspec": {
   "display_name": "Python 3",
   "language": "python",
   "name": "python3"
  },
  "language_info": {
   "codemirror_mode": {
    "name": "ipython",
    "version": 3
   },
   "file_extension": ".py",
   "mimetype": "text/x-python",
   "name": "python",
   "nbconvert_exporter": "python",
   "pygments_lexer": "ipython3",
   "version": "3.6.4"
  }
 },
 "nbformat": 4,
 "nbformat_minor": 2
}
